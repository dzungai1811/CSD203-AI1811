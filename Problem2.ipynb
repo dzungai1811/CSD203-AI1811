{
 "cells": [
  {
   "cell_type": "code",
   "execution_count": 1,
   "id": "31f10f6c",
   "metadata": {},
   "outputs": [
    {
     "name": "stdout",
     "output_type": "stream",
     "text": [
      "Nhập điểm của môn học (hệ thống thập phân): 6.7\n",
      "Điểm chữ: C\n",
      "Điểm theo hệ thống thứ tự thứ 4: 3\n"
     ]
    }
   ],
   "source": [
    "def check(grade):\n",
    "    try:\n",
    "        grade = float(grade)\n",
    "        if 0 <= grade <= 10:\n",
    "            return True, grade\n",
    "        else:\n",
    "            return False, None\n",
    "    except ValueError:\n",
    "        return False, None\n",
    "def alphabetic(grade):\n",
    "    if grade >= 8.5:\n",
    "        return 'A'\n",
    "    elif 7.0 <= grade < 8.5:\n",
    "        return 'B'\n",
    "    elif 5.5 <= grade < 7.0:\n",
    "        return 'C'\n",
    "    elif 4.0 <= grade < 5.5:\n",
    "        return 'D'\n",
    "    else:\n",
    "        return 'F'\n",
    "def system4th(grade):\n",
    "    if grade >= 8.5:\n",
    "        return '1'\n",
    "    elif 7.0 <= grade < 8.5:\n",
    "        return '2'\n",
    "    elif 5.5 <= grade < 7.0:\n",
    "        return '3'\n",
    "    elif 4.0 <= grade < 5.5:\n",
    "        return '4'\n",
    "    else:\n",
    "        return '5'\n",
    "while True:\n",
    "    grade_input = input(\"Nhập điểm của môn học (hệ thống thập phân): \")\n",
    "    validd, grade = check(grade_input)\n",
    "    if validd:\n",
    "        break\n",
    "    else:\n",
    "        print(\"Điểm không hợp lệ. Vui lòng nhập lại.\")\n",
    "chu_cai = alphabetic(grade)\n",
    "thu_tu_thu_tu_4 = system4th(grade)\n",
    "print(f\"Điểm chữ: {chu_cai}\")\n",
    "print(f\"Điểm theo hệ thống thứ tự thứ 4: {thu_tu_thu_tu_4}\")\n",
    "\n",
    "\n"
   ]
  },
  {
   "cell_type": "code",
   "execution_count": null,
   "id": "d80b6297",
   "metadata": {},
   "outputs": [],
   "source": []
  }
 ],
 "metadata": {
  "kernelspec": {
   "display_name": "Python 3 (ipykernel)",
   "language": "python",
   "name": "python3"
  },
  "language_info": {
   "codemirror_mode": {
    "name": "ipython",
    "version": 3
   },
   "file_extension": ".py",
   "mimetype": "text/x-python",
   "name": "python",
   "nbconvert_exporter": "python",
   "pygments_lexer": "ipython3",
   "version": "3.11.5"
  }
 },
 "nbformat": 4,
 "nbformat_minor": 5
}
