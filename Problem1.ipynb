{
 "cells": [
  {
   "cell_type": "code",
   "execution_count": null,
   "id": "dd8b1dc3",
   "metadata": {},
   "outputs": [],
   "source": [
    "def problem1(arr):\n",
    "    average = sum(arr) / len(arr)\n",
    "    nearest_element = min(arr, key=lambda x: abs(x - average))\n",
    "    position = arr.index(nearest_element)\n",
    "    return position\n",
    "n = int(input(\"Nhập số phần tử của mảng: \"))\n",
    "array = []\n",
    "for i in range(n):\n",
    "    element = float(input(f\"Nhập giá trị của phần tử thứ {i + 1}: \"))\n",
    "    array.append(element)\n",
    "result = problem1(array)\n",
    "print(f\"Vị trí của phần tử gần nhất với giá trị trung bình là: {result}\")"
   ]
  }
 ],
 "metadata": {
  "kernelspec": {
   "display_name": "Python 3 (ipykernel)",
   "language": "python",
   "name": "python3"
  },
  "language_info": {
   "codemirror_mode": {
    "name": "ipython",
    "version": 3
   },
   "file_extension": ".py",
   "mimetype": "text/x-python",
   "name": "python",
   "nbconvert_exporter": "python",
   "pygments_lexer": "ipython3",
   "version": "3.11.5"
  }
 },
 "nbformat": 4,
 "nbformat_minor": 5
}
