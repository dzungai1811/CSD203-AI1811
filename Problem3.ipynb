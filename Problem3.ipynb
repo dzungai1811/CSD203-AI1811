{
 "cells": [
  {
   "cell_type": "code",
   "execution_count": 1,
   "id": "bfc6e645",
   "metadata": {},
   "outputs": [
    {
     "name": "stdout",
     "output_type": "stream",
     "text": [
      "Nhập giá trị của mảng, cách nhau bằng dấu cách: 4 5 6 4 \n",
      "Các số khác nhau trong mảng là:\n",
      "4 5 6 "
     ]
    }
   ],
   "source": [
    "def problem3(arr):\n",
    "    unique_numbers = set()\n",
    "    for number in arr:\n",
    "        if number not in unique_numbers:\n",
    "            unique_numbers.add(number)\n",
    "    print(\"Các số khác nhau trong mảng là:\")\n",
    "    for number in unique_numbers:\n",
    "        print(number, end=\" \")\n",
    "input_str = input(\"Nhập giá trị của mảng, cách nhau bằng dấu cách: \")\n",
    "input_list = [int(item) for item in input_str.split()]\n",
    "problem3(input_list)\n",
    "\n"
   ]
  },
  {
   "cell_type": "code",
   "execution_count": null,
   "id": "c09150ec",
   "metadata": {},
   "outputs": [],
   "source": []
  }
 ],
 "metadata": {
  "kernelspec": {
   "display_name": "Python 3 (ipykernel)",
   "language": "python",
   "name": "python3"
  },
  "language_info": {
   "codemirror_mode": {
    "name": "ipython",
    "version": 3
   },
   "file_extension": ".py",
   "mimetype": "text/x-python",
   "name": "python",
   "nbconvert_exporter": "python",
   "pygments_lexer": "ipython3",
   "version": "3.11.5"
  }
 },
 "nbformat": 4,
 "nbformat_minor": 5
}
